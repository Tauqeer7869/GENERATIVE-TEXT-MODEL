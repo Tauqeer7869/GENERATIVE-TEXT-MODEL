{
 "cells": [
  {
   "cell_type": "code",
   "execution_count": 4,
   "id": "1e9efc5d-bdc2-425c-85d9-23dc81e9be87",
   "metadata": {},
   "outputs": [
    {
     "name": "stderr",
     "output_type": "stream",
     "text": [
      "Device set to use cpu\n"
     ]
    },
    {
     "name": "stdin",
     "output_type": "stream",
     "text": [
      "Enter a topic or prompt for text generation:  Artificial Intelligence in healthcare\n"
     ]
    },
    {
     "name": "stdout",
     "output_type": "stream",
     "text": [
      "\n",
      "📝 Generated Paragraph:\n",
      "\n",
      "Artificial Intelligence in healthcare: What does a medical computer have to do with our health-care system? In this article, we will provide a brief overview of how artificial intelligence (AI) and artificial intelligence are related and provide insight into how this will impact healthcare. It will also focus on the most interesting new technologies that may result from AI and AI-led healthcare systems or healthcare analytics. We will discuss how this will affect the healthcare system, how this will impact healthcare analytics, and how it may affect healthcare analytics. We will show that AI will drive healthcare health systems, and how these systems will be affected, as well as provide new techniques to drive healthcare analytics and healthcare security software. This article is aimed at presenting a starting point and point for our discussion, so we will cover some examples and lessons from my previous articles: Introduction of this article is meant to be a guide so that everyone has at least a basic understanding of what is being discussed. However, I also want to give some points of view that can be relevant to various healthcare topics that this article aims to cover. Therefore I am not going to try to explain what AI is here and how it will affect healthcare. Instead, I recommend that you do your research before beginning this discussion. Let's start with the basics: What is AI?\n",
      "\n",
      "AI is the work done by humans looking at the world from an inside perspective. With a simple example, we can look at healthcare as a place where all human needs are met,\n"
     ]
    }
   ],
   "source": [
    "from transformers import pipeline, set_seed\n",
    "generator = pipeline(\"text-generation\", model=\"gpt2\")\n",
    "set_seed(42)\n",
    "prompt = input(\"Enter a topic or prompt for text generation: \")\n",
    "generated_output = generator(prompt, max_length=300, num_return_sequences=1,truncation=True,pad_token_id=50256)\n",
    "print(\"\\n📝 Generated Paragraph:\\n\")\n",
    "print(generated_output[0]['generated_text'])"
   ]
  },
  {
   "cell_type": "code",
   "execution_count": null,
   "id": "8f9c5394-c37a-4105-81e0-74f7ecf5971d",
   "metadata": {},
   "outputs": [],
   "source": []
  }
 ],
 "metadata": {
  "kernelspec": {
   "display_name": "Python 3 (ipykernel)",
   "language": "python",
   "name": "python3"
  },
  "language_info": {
   "codemirror_mode": {
    "name": "ipython",
    "version": 3
   },
   "file_extension": ".py",
   "mimetype": "text/x-python",
   "name": "python",
   "nbconvert_exporter": "python",
   "pygments_lexer": "ipython3",
   "version": "3.12.7"
  }
 },
 "nbformat": 4,
 "nbformat_minor": 5
}
